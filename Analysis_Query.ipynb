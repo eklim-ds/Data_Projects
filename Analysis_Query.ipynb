{
 "cells": [
  {
   "cell_type": "markdown",
   "metadata": {},
   "source": [
    "Research Questions \n",
    "Which industry sectors have produced the top earning individuals?\n",
    "Who are the wealthiest people in the world and in the United States?\n",
    "What is the correlation between age and annual income?"
   ]
  },
  {
   "cell_type": "markdown",
   "metadata": {},
   "source": [
    "Methods\n",
    "This project utilizes Python's Pandas library for importing, cleaning and analyzing CSV data.\n",
    "The data is imported into SQL database for analysis. \n",
    "The results are visually represented using Seaborn."
   ]
  },
  {
   "cell_type": "code",
   "execution_count": 26,
   "metadata": {},
   "outputs": [],
   "source": [
    "import pandas as pd\n",
    "import numpy as np\n",
    "import matplotlib.pyplot as plt\n",
    "import seaborn as sns \n",
    "from pathlib import Path\n",
    "import re\n",
    "import sqlite3\n",
    "import warnings\n",
    "warnings.filterwarnings('ignore')"
   ]
  },
  {
   "cell_type": "code",
   "execution_count": 27,
   "metadata": {},
   "outputs": [],
   "source": [
    "my_dataset = pd.read_csv('../billionaire_list_20yrs.csv', encoding='unicode_escape')"
   ]
  },
  {
   "cell_type": "code",
   "execution_count": 28,
   "metadata": {},
   "outputs": [
    {
     "data": {
      "text/plain": [
       "Unnamed: 0                    0\n",
       "name                          0\n",
       "last_name                 10850\n",
       "age                           0\n",
       "gender                    11892\n",
       "time                          0\n",
       "permanent_country         47691\n",
       "company                   25500\n",
       "main_industry                 0\n",
       "wealth_source_details     10922\n",
       "industry                     49\n",
       "state                    193179\n",
       "headquarters             218714\n",
       "countries                     0\n",
       "annual_income                 0\n",
       "daily_income                  0\n",
       "birth_year                    0\n",
       "name_cleaned                  0\n",
       "dtype: int64"
      ]
     },
     "execution_count": 28,
     "metadata": {},
     "output_type": "execute_result"
    }
   ],
   "source": [
    "my_dataset.isna().sum()"
   ]
  },
  {
   "cell_type": "markdown",
   "metadata": {},
   "source": [
    "Original dataset contains many rows with missing data. It is important to backfill the data for more accurate analysis. \n",
    "Irrelevant columns can be dropped."
   ]
  },
  {
   "cell_type": "code",
   "execution_count": 4,
   "metadata": {},
   "outputs": [],
   "source": [
    "del my_dataset['Unnamed: 0']\n",
    "del my_dataset['headquarters']\n",
    "del my_dataset['daily_income']"
   ]
  },
  {
   "cell_type": "code",
   "execution_count": 5,
   "metadata": {},
   "outputs": [],
   "source": [
    "my_dataset['last_name'] = my_dataset['last_name'].fillna('Unknown')\n",
    "my_dataset['gender'] = my_dataset['gender'].fillna('Unknown')\n",
    "my_dataset['permanent_country'] = my_dataset['permanent_country'].fillna('Unknown')\n",
    "my_dataset['company'] = my_dataset['company'].fillna('Unknown')\n",
    "my_dataset['state'] = my_dataset['state'].fillna('Unknown')\n",
    "my_dataset['wealth_source_details'] = my_dataset['wealth_source_details'].fillna('Unknown')\n",
    "my_dataset['industry'] = my_dataset['industry'].fillna('Unknown')"
   ]
  },
  {
   "cell_type": "code",
   "execution_count": 6,
   "metadata": {},
   "outputs": [
    {
     "data": {
      "text/plain": [
       "name                     0\n",
       "last_name                0\n",
       "age                      0\n",
       "gender                   0\n",
       "time                     0\n",
       "permanent_country        0\n",
       "company                  0\n",
       "main_industry            0\n",
       "wealth_source_details    0\n",
       "industry                 0\n",
       "state                    0\n",
       "countries                0\n",
       "annual_income            0\n",
       "birth_year               0\n",
       "name_cleaned             0\n",
       "dtype: int64"
      ]
     },
     "execution_count": 6,
     "metadata": {},
     "output_type": "execute_result"
    }
   ],
   "source": [
    "my_dataset.isna().sum()"
   ]
  },
  {
   "cell_type": "code",
   "execution_count": 7,
   "metadata": {},
   "outputs": [
    {
     "data": {
      "text/plain": [
       "name                     object\n",
       "last_name                object\n",
       "age                       int64\n",
       "gender                   object\n",
       "time                      int64\n",
       "permanent_country        object\n",
       "company                  object\n",
       "main_industry            object\n",
       "wealth_source_details    object\n",
       "industry                 object\n",
       "state                    object\n",
       "countries                object\n",
       "annual_income             int64\n",
       "birth_year                int64\n",
       "name_cleaned             object\n",
       "dtype: object"
      ]
     },
     "execution_count": 7,
     "metadata": {},
     "output_type": "execute_result"
    }
   ],
   "source": [
    "my_dataset.dtypes"
   ]
  },
  {
   "cell_type": "markdown",
   "metadata": {},
   "source": [
    "The Path library from Python allows me to create a SQL Lite database that I can connect to with Pandas' 'to_sql' method."
   ]
  },
  {
   "cell_type": "code",
   "execution_count": 8,
   "metadata": {},
   "outputs": [],
   "source": [
    "Path('billionaire_list.db').touch()\n",
    "my_conn = sqlite3.connect('billionaire_list.db')\n",
    "my_c = my_conn.cursor()"
   ]
  },
  {
   "cell_type": "code",
   "execution_count": 9,
   "metadata": {},
   "outputs": [],
   "source": [
    "my_dataset.to_sql('billionaire_list', my_conn, if_exists='replace', index=False)"
   ]
  },
  {
   "cell_type": "code",
   "execution_count": 11,
   "metadata": {},
   "outputs": [
    {
     "data": {
      "text/html": [
       "<div>\n",
       "<style scoped>\n",
       "    .dataframe tbody tr th:only-of-type {\n",
       "        vertical-align: middle;\n",
       "    }\n",
       "\n",
       "    .dataframe tbody tr th {\n",
       "        vertical-align: top;\n",
       "    }\n",
       "\n",
       "    .dataframe thead th {\n",
       "        text-align: right;\n",
       "    }\n",
       "</style>\n",
       "<table border=\"1\" class=\"dataframe\">\n",
       "  <thead>\n",
       "    <tr style=\"text-align: right;\">\n",
       "      <th></th>\n",
       "      <th>name</th>\n",
       "      <th>last_name</th>\n",
       "      <th>age</th>\n",
       "      <th>gender</th>\n",
       "      <th>time</th>\n",
       "      <th>permanent_country</th>\n",
       "      <th>company</th>\n",
       "      <th>main_industry</th>\n",
       "      <th>wealth_source_details</th>\n",
       "      <th>industry</th>\n",
       "      <th>state</th>\n",
       "      <th>countries</th>\n",
       "      <th>annual_income</th>\n",
       "      <th>birth_year</th>\n",
       "      <th>name_cleaned</th>\n",
       "    </tr>\n",
       "  </thead>\n",
       "  <tbody>\n",
       "    <tr>\n",
       "      <th>0</th>\n",
       "      <td>Abdulla bin Ahmad Al Ghurair</td>\n",
       "      <td>Al Ghurair</td>\n",
       "      <td>67</td>\n",
       "      <td>M</td>\n",
       "      <td>2022</td>\n",
       "      <td>United Arab Emirates-Dubai</td>\n",
       "      <td>Mashreq Bank</td>\n",
       "      <td>Diversified</td>\n",
       "      <td>diversified</td>\n",
       "      <td>Diversified;Banking</td>\n",
       "      <td>Unknown</td>\n",
       "      <td>are</td>\n",
       "      <td>67080000</td>\n",
       "      <td>1955</td>\n",
       "      <td>abdulla_bin_ahmad_al_ghurair</td>\n",
       "    </tr>\n",
       "    <tr>\n",
       "      <th>1</th>\n",
       "      <td>Adam Kwok Kai-fai</td>\n",
       "      <td>Unknown</td>\n",
       "      <td>39</td>\n",
       "      <td>Unknown</td>\n",
       "      <td>2022</td>\n",
       "      <td>China-Hong Kong</td>\n",
       "      <td>Sun Hung Kai</td>\n",
       "      <td>Estate Holding</td>\n",
       "      <td>Unknown</td>\n",
       "      <td>Estate Holding;Real Estate</td>\n",
       "      <td>Unknown</td>\n",
       "      <td>chn;hkg</td>\n",
       "      <td>167700000</td>\n",
       "      <td>1983</td>\n",
       "      <td>adam_kwok_kai_fai</td>\n",
       "    </tr>\n",
       "    <tr>\n",
       "      <th>2</th>\n",
       "      <td>Alberto Chiesi</td>\n",
       "      <td>Unknown</td>\n",
       "      <td>53</td>\n",
       "      <td>Unknown</td>\n",
       "      <td>2022</td>\n",
       "      <td>Italy-Parma</td>\n",
       "      <td>Chiesi Farmaceutici</td>\n",
       "      <td>Pharmaceuticals</td>\n",
       "      <td>Unknown</td>\n",
       "      <td>Pharmaceuticals</td>\n",
       "      <td>Unknown</td>\n",
       "      <td>ita</td>\n",
       "      <td>67080000</td>\n",
       "      <td>1969</td>\n",
       "      <td>alberto_chiesi</td>\n",
       "    </tr>\n",
       "    <tr>\n",
       "      <th>3</th>\n",
       "      <td>Allen Hong Shui-Shu</td>\n",
       "      <td>Unknown</td>\n",
       "      <td>63</td>\n",
       "      <td>Unknown</td>\n",
       "      <td>2022</td>\n",
       "      <td>China-Taiwan-Tainan</td>\n",
       "      <td>Catcher Technology</td>\n",
       "      <td>Consumer Electronics</td>\n",
       "      <td>Unknown</td>\n",
       "      <td>Consumer Electronics;Manufacturing</td>\n",
       "      <td>Unknown</td>\n",
       "      <td>chn</td>\n",
       "      <td>25800000</td>\n",
       "      <td>1959</td>\n",
       "      <td>allen_hong_shui_shu</td>\n",
       "    </tr>\n",
       "    <tr>\n",
       "      <th>4</th>\n",
       "      <td>Andrew &amp; Peggy Cherng</td>\n",
       "      <td>Cherng</td>\n",
       "      <td>74</td>\n",
       "      <td>F</td>\n",
       "      <td>2022</td>\n",
       "      <td>Unknown</td>\n",
       "      <td>Chain Panda</td>\n",
       "      <td>Food &amp; Beverage</td>\n",
       "      <td>restaurants; Restaurants; Panda Restaurant Group</td>\n",
       "      <td>Food &amp; Beverage; Food and Beverage;Hospitality</td>\n",
       "      <td>Nevada; California</td>\n",
       "      <td>usa</td>\n",
       "      <td>82560000</td>\n",
       "      <td>1948</td>\n",
       "      <td>andrew_peggy_cherng</td>\n",
       "    </tr>\n",
       "    <tr>\n",
       "      <th>...</th>\n",
       "      <td>...</td>\n",
       "      <td>...</td>\n",
       "      <td>...</td>\n",
       "      <td>...</td>\n",
       "      <td>...</td>\n",
       "      <td>...</td>\n",
       "      <td>...</td>\n",
       "      <td>...</td>\n",
       "      <td>...</td>\n",
       "      <td>...</td>\n",
       "      <td>...</td>\n",
       "      <td>...</td>\n",
       "      <td>...</td>\n",
       "      <td>...</td>\n",
       "      <td>...</td>\n",
       "    </tr>\n",
       "    <tr>\n",
       "      <th>4986</th>\n",
       "      <td>Zuo Xiaoping</td>\n",
       "      <td>Unknown</td>\n",
       "      <td>49</td>\n",
       "      <td>Unknown</td>\n",
       "      <td>2022</td>\n",
       "      <td>China-Guangdong-Foshan</td>\n",
       "      <td>Lesso;L&amp;S</td>\n",
       "      <td>Construction Materials</td>\n",
       "      <td>Unknown</td>\n",
       "      <td>Construction Materials;Industrial Products;Pla...</td>\n",
       "      <td>Unknown</td>\n",
       "      <td>chn</td>\n",
       "      <td>121260000</td>\n",
       "      <td>1973</td>\n",
       "      <td>zuo_xiaoping</td>\n",
       "    </tr>\n",
       "    <tr>\n",
       "      <th>4987</th>\n",
       "      <td>Zuo Zongshen</td>\n",
       "      <td>Unknown</td>\n",
       "      <td>69</td>\n",
       "      <td>Unknown</td>\n",
       "      <td>2022</td>\n",
       "      <td>China-Chongqing</td>\n",
       "      <td>Zongshen</td>\n",
       "      <td>Auto Components</td>\n",
       "      <td>Unknown</td>\n",
       "      <td>Auto Components;Motorcycles, Real Estate;Motor...</td>\n",
       "      <td>Unknown</td>\n",
       "      <td>chn</td>\n",
       "      <td>28380000</td>\n",
       "      <td>1953</td>\n",
       "      <td>zuo_zongshen</td>\n",
       "    </tr>\n",
       "    <tr>\n",
       "      <th>4988</th>\n",
       "      <td>Zuowen Song</td>\n",
       "      <td>Song</td>\n",
       "      <td>75</td>\n",
       "      <td>M</td>\n",
       "      <td>2022</td>\n",
       "      <td>China-Shandong-Yantai</td>\n",
       "      <td>Nanshan</td>\n",
       "      <td>Diversified</td>\n",
       "      <td>aluminum, diversified</td>\n",
       "      <td>Diversified;Non-ferrous metals processing;Meta...</td>\n",
       "      <td>Unknown</td>\n",
       "      <td>chn</td>\n",
       "      <td>92880000</td>\n",
       "      <td>1947</td>\n",
       "      <td>zuowen_song</td>\n",
       "    </tr>\n",
       "    <tr>\n",
       "      <th>4989</th>\n",
       "      <td>Zygi Wilf</td>\n",
       "      <td>Unknown</td>\n",
       "      <td>72</td>\n",
       "      <td>Unknown</td>\n",
       "      <td>2022</td>\n",
       "      <td>United States-Millburn</td>\n",
       "      <td>Minnesota Vikings;Garden Homes</td>\n",
       "      <td>Sports</td>\n",
       "      <td>Unknown</td>\n",
       "      <td>Sports;Real Estate</td>\n",
       "      <td>Unknown</td>\n",
       "      <td>usa</td>\n",
       "      <td>87720000</td>\n",
       "      <td>1950</td>\n",
       "      <td>zygi_wilf</td>\n",
       "    </tr>\n",
       "    <tr>\n",
       "      <th>4990</th>\n",
       "      <td>Zygmunt Solorz-Zak</td>\n",
       "      <td>Solorz-Zak</td>\n",
       "      <td>65</td>\n",
       "      <td>M</td>\n",
       "      <td>2022</td>\n",
       "      <td>Poland-Warsaw</td>\n",
       "      <td>Cyfrowy Polsat</td>\n",
       "      <td>Media &amp; Entertainment</td>\n",
       "      <td>TV broadcasting; TV station</td>\n",
       "      <td>Media &amp; Entertainment; Media;Media;Entertainment</td>\n",
       "      <td>Unknown</td>\n",
       "      <td>pol</td>\n",
       "      <td>74820000</td>\n",
       "      <td>1957</td>\n",
       "      <td>zygmunt_solorz_zak</td>\n",
       "    </tr>\n",
       "  </tbody>\n",
       "</table>\n",
       "<p>4991 rows × 15 columns</p>\n",
       "</div>"
      ],
      "text/plain": [
       "                              name   last_name  age   gender  time  \\\n",
       "0     Abdulla bin Ahmad Al Ghurair  Al Ghurair   67        M  2022   \n",
       "1                Adam Kwok Kai-fai     Unknown   39  Unknown  2022   \n",
       "2                   Alberto Chiesi     Unknown   53  Unknown  2022   \n",
       "3              Allen Hong Shui-Shu     Unknown   63  Unknown  2022   \n",
       "4            Andrew & Peggy Cherng      Cherng   74        F  2022   \n",
       "...                            ...         ...  ...      ...   ...   \n",
       "4986                  Zuo Xiaoping     Unknown   49  Unknown  2022   \n",
       "4987                  Zuo Zongshen     Unknown   69  Unknown  2022   \n",
       "4988                   Zuowen Song        Song   75        M  2022   \n",
       "4989                     Zygi Wilf     Unknown   72  Unknown  2022   \n",
       "4990            Zygmunt Solorz-Zak  Solorz-Zak   65        M  2022   \n",
       "\n",
       "               permanent_country                         company  \\\n",
       "0     United Arab Emirates-Dubai                    Mashreq Bank   \n",
       "1                China-Hong Kong                    Sun Hung Kai   \n",
       "2                    Italy-Parma             Chiesi Farmaceutici   \n",
       "3            China-Taiwan-Tainan              Catcher Technology   \n",
       "4                        Unknown                     Chain Panda   \n",
       "...                          ...                             ...   \n",
       "4986      China-Guangdong-Foshan                       Lesso;L&S   \n",
       "4987             China-Chongqing                        Zongshen   \n",
       "4988       China-Shandong-Yantai                         Nanshan   \n",
       "4989      United States-Millburn  Minnesota Vikings;Garden Homes   \n",
       "4990               Poland-Warsaw                  Cyfrowy Polsat   \n",
       "\n",
       "               main_industry  \\\n",
       "0                Diversified   \n",
       "1             Estate Holding   \n",
       "2            Pharmaceuticals   \n",
       "3       Consumer Electronics   \n",
       "4            Food & Beverage   \n",
       "...                      ...   \n",
       "4986  Construction Materials   \n",
       "4987         Auto Components   \n",
       "4988             Diversified   \n",
       "4989                  Sports   \n",
       "4990   Media & Entertainment   \n",
       "\n",
       "                                 wealth_source_details  \\\n",
       "0                                          diversified   \n",
       "1                                              Unknown   \n",
       "2                                              Unknown   \n",
       "3                                              Unknown   \n",
       "4     restaurants; Restaurants; Panda Restaurant Group   \n",
       "...                                                ...   \n",
       "4986                                           Unknown   \n",
       "4987                                           Unknown   \n",
       "4988                             aluminum, diversified   \n",
       "4989                                           Unknown   \n",
       "4990                       TV broadcasting; TV station   \n",
       "\n",
       "                                               industry               state  \\\n",
       "0                                   Diversified;Banking             Unknown   \n",
       "1                            Estate Holding;Real Estate             Unknown   \n",
       "2                                       Pharmaceuticals             Unknown   \n",
       "3                    Consumer Electronics;Manufacturing             Unknown   \n",
       "4        Food & Beverage; Food and Beverage;Hospitality  Nevada; California   \n",
       "...                                                 ...                 ...   \n",
       "4986  Construction Materials;Industrial Products;Pla...             Unknown   \n",
       "4987  Auto Components;Motorcycles, Real Estate;Motor...             Unknown   \n",
       "4988  Diversified;Non-ferrous metals processing;Meta...             Unknown   \n",
       "4989                                 Sports;Real Estate             Unknown   \n",
       "4990   Media & Entertainment; Media;Media;Entertainment             Unknown   \n",
       "\n",
       "     countries  annual_income  birth_year                  name_cleaned  \n",
       "0          are       67080000        1955  abdulla_bin_ahmad_al_ghurair  \n",
       "1      chn;hkg      167700000        1983             adam_kwok_kai_fai  \n",
       "2          ita       67080000        1969                alberto_chiesi  \n",
       "3          chn       25800000        1959           allen_hong_shui_shu  \n",
       "4          usa       82560000        1948           andrew_peggy_cherng  \n",
       "...        ...            ...         ...                           ...  \n",
       "4986       chn      121260000        1973                  zuo_xiaoping  \n",
       "4987       chn       28380000        1953                  zuo_zongshen  \n",
       "4988       chn       92880000        1947                   zuowen_song  \n",
       "4989       usa       87720000        1950                     zygi_wilf  \n",
       "4990       pol       74820000        1957            zygmunt_solorz_zak  \n",
       "\n",
       "[4991 rows x 15 columns]"
      ]
     },
     "execution_count": 11,
     "metadata": {},
     "output_type": "execute_result"
    }
   ],
   "source": [
    "my_dataset_lst = pd.read_sql(''' SELECT distinct t1.* FROM billionaire_list t1 \n",
    "INNER JOIN ( SELECT name, MAX(time) AS max_time FROM billionaire_list GROUP BY name ) t2 \n",
    "ON t1.name = t2.name AND t1.time = t2.max_time; ''', my_conn)\n",
    "my_dataset_lst"
   ]
  },
  {
   "cell_type": "code",
   "execution_count": 29,
   "metadata": {},
   "outputs": [
    {
     "data": {
      "text/plain": [
       "Text(0, 0.5, 'Density')"
      ]
     },
     "execution_count": 29,
     "metadata": {},
     "output_type": "execute_result"
    },
    {
     "data": {
      "image/png": "[encoded data removed]",
      "text/plain": [
       "<Figure size 432x288 with 1 Axes>"
      ]
     },
     "metadata": {},
     "output_type": "display_data"
    }
   ],
   "source": [
    "plt.style.use('ggplot')\n",
    "plt.suptitle('Distribution of annual income', weight='bold', color = 'black').set_fontsize(18)\n",
    "sns.distplot(my_dataset_lst['annual_income'], hist=False, kde=True, color = 'orange')\n",
    "plt.xticks(rotation=45)\n",
    "plt.yticks(rotation=45)\n",
    "plt.xlabel('Annual income in billions (USD)', weight = 'bold', color = 'black')\n",
    "plt.ylabel('Density', weight = 'bold', color = 'black')"
   ]
  },
  {
   "cell_type": "markdown",
   "metadata": {},
   "source": [
    "The graph shows that the majority of annual income values in the dataset falls between 0 and 1 billion dollars."
   ]
  },
  {
   "cell_type": "code",
   "execution_count": 30,
   "metadata": {
    "scrolled": true
   },
   "outputs": [
    {
     "data": {
      "text/html": [
       "<div>\n",
       "<style scoped>\n",
       "    .dataframe tbody tr th:only-of-type {\n",
       "        vertical-align: middle;\n",
       "    }\n",
       "\n",
       "    .dataframe tbody tr th {\n",
       "        vertical-align: top;\n",
       "    }\n",
       "\n",
       "    .dataframe thead th {\n",
       "        text-align: right;\n",
       "    }\n",
       "</style>\n",
       "<table border=\"1\" class=\"dataframe\">\n",
       "  <thead>\n",
       "    <tr style=\"text-align: right;\">\n",
       "      <th></th>\n",
       "      <th>name</th>\n",
       "      <th>annual_income</th>\n",
       "    </tr>\n",
       "  </thead>\n",
       "  <tbody>\n",
       "    <tr>\n",
       "      <th>0</th>\n",
       "      <td>Elon Musk</td>\n",
       "      <td>5650200000</td>\n",
       "    </tr>\n",
       "    <tr>\n",
       "      <th>1</th>\n",
       "      <td>Jeff Bezos</td>\n",
       "      <td>4411800000</td>\n",
       "    </tr>\n",
       "    <tr>\n",
       "      <th>2</th>\n",
       "      <td>Bernard Arnault</td>\n",
       "      <td>4076400000</td>\n",
       "    </tr>\n",
       "    <tr>\n",
       "      <th>3</th>\n",
       "      <td>Bill Gates</td>\n",
       "      <td>3328200000</td>\n",
       "    </tr>\n",
       "    <tr>\n",
       "      <th>4</th>\n",
       "      <td>Warren Buffett</td>\n",
       "      <td>3044400000</td>\n",
       "    </tr>\n",
       "    <tr>\n",
       "      <th>5</th>\n",
       "      <td>Larry Page</td>\n",
       "      <td>2863800000</td>\n",
       "    </tr>\n",
       "    <tr>\n",
       "      <th>6</th>\n",
       "      <td>Sergey Brin</td>\n",
       "      <td>2760600000</td>\n",
       "    </tr>\n",
       "    <tr>\n",
       "      <th>7</th>\n",
       "      <td>Larry Ellison</td>\n",
       "      <td>2734800000</td>\n",
       "    </tr>\n",
       "    <tr>\n",
       "      <th>8</th>\n",
       "      <td>Bertrand Puech</td>\n",
       "      <td>2631600000</td>\n",
       "    </tr>\n",
       "    <tr>\n",
       "      <th>9</th>\n",
       "      <td>Steve Ballmer</td>\n",
       "      <td>2358120000</td>\n",
       "    </tr>\n",
       "  </tbody>\n",
       "</table>\n",
       "</div>"
      ],
      "text/plain": [
       "              name  annual_income\n",
       "0        Elon Musk     5650200000\n",
       "1       Jeff Bezos     4411800000\n",
       "2  Bernard Arnault     4076400000\n",
       "3       Bill Gates     3328200000\n",
       "4   Warren Buffett     3044400000\n",
       "5       Larry Page     2863800000\n",
       "6      Sergey Brin     2760600000\n",
       "7    Larry Ellison     2734800000\n",
       "8   Bertrand Puech     2631600000\n",
       "9    Steve Ballmer     2358120000"
      ]
     },
     "execution_count": 30,
     "metadata": {},
     "output_type": "execute_result"
    }
   ],
   "source": [
    "top_ten = pd.read_sql(''' SELECT distinct t1.name, t1.annual_income FROM billionaire_list t1 \n",
    "INNER JOIN ( SELECT name, MAX(time) AS max_time FROM billionaire_list GROUP BY name ) t2 \n",
    "ON t1.name = t2.name AND t1.time = t2.max_time \n",
    "order by t1.annual_income desc limit  10 ;''', my_conn)\n",
    "top_ten"
   ]
  },
  {
   "cell_type": "code",
   "execution_count": null,
   "metadata": {},
   "outputs": [],
   "source": [
    "For top ten richest individuals, annual income is between 2.4 and 5.6 billion dollars. "
   ]
  },
  {
   "cell_type": "code",
   "execution_count": 31,
   "metadata": {},
   "outputs": [
    {
     "data": {
      "text/plain": [
       "Text(0, 0.5, 'Density')"
      ]
     },
     "execution_count": 31,
     "metadata": {},
     "output_type": "execute_result"
    },
    {
     "data": {
      "image/png": "[encoded data removed]",
      "text/plain": [
       "<Figure size 432x288 with 1 Axes>"
      ]
     },
     "metadata": {},
     "output_type": "display_data"
    }
   ],
   "source": [
    "plt.suptitle('Distribution of Annual Income for Top Ten Richest People in the World', weight = 'bold', color = 'black').set_fontsize(18)\n",
    "plt.title('Data from the Peterson Institute for International Economics', color = 'black').set_fontsize(10)\n",
    "sns.distplot(top_ten['annual_income'], hist=False, kde=True)\n",
    "plt.xticks(rotation=45)\n",
    "plt.yticks(rotation=45)\n",
    "plt.xlabel('Net worth in billions (USD)', weight = 'bold', color = 'black')\n",
    "plt.ylabel('Density', weight = 'bold', color = 'black')"
   ]
  },
  {
   "cell_type": "code",
   "execution_count": 16,
   "metadata": {
    "scrolled": true
   },
   "outputs": [
    {
     "data": {
      "text/html": [
       "<div>\n",
       "<style scoped>\n",
       "    .dataframe tbody tr th:only-of-type {\n",
       "        vertical-align: middle;\n",
       "    }\n",
       "\n",
       "    .dataframe tbody tr th {\n",
       "        vertical-align: top;\n",
       "    }\n",
       "\n",
       "    .dataframe thead th {\n",
       "        text-align: right;\n",
       "    }\n",
       "</style>\n",
       "<table border=\"1\" class=\"dataframe\">\n",
       "  <thead>\n",
       "    <tr style=\"text-align: right;\">\n",
       "      <th></th>\n",
       "      <th>name</th>\n",
       "      <th>annual_income</th>\n",
       "      <th>main_industry</th>\n",
       "    </tr>\n",
       "  </thead>\n",
       "  <tbody>\n",
       "    <tr>\n",
       "      <th>0</th>\n",
       "      <td>Elon Musk</td>\n",
       "      <td>5650200000</td>\n",
       "      <td>Automotive</td>\n",
       "    </tr>\n",
       "    <tr>\n",
       "      <th>1</th>\n",
       "      <td>Jeff Bezos</td>\n",
       "      <td>4411800000</td>\n",
       "      <td>Technology</td>\n",
       "    </tr>\n",
       "    <tr>\n",
       "      <th>2</th>\n",
       "      <td>Bill Gates</td>\n",
       "      <td>3328200000</td>\n",
       "      <td>Technology</td>\n",
       "    </tr>\n",
       "    <tr>\n",
       "      <th>3</th>\n",
       "      <td>Warren Buffett</td>\n",
       "      <td>3044400000</td>\n",
       "      <td>Finance &amp; Investments</td>\n",
       "    </tr>\n",
       "    <tr>\n",
       "      <th>4</th>\n",
       "      <td>Larry Page</td>\n",
       "      <td>2863800000</td>\n",
       "      <td>Technology</td>\n",
       "    </tr>\n",
       "    <tr>\n",
       "      <th>5</th>\n",
       "      <td>Sergey Brin</td>\n",
       "      <td>2760600000</td>\n",
       "      <td>Technology</td>\n",
       "    </tr>\n",
       "    <tr>\n",
       "      <th>6</th>\n",
       "      <td>Larry Ellison</td>\n",
       "      <td>2734800000</td>\n",
       "      <td>Technology</td>\n",
       "    </tr>\n",
       "    <tr>\n",
       "      <th>7</th>\n",
       "      <td>Steve Ballmer</td>\n",
       "      <td>2358120000</td>\n",
       "      <td>Technology</td>\n",
       "    </tr>\n",
       "    <tr>\n",
       "      <th>8</th>\n",
       "      <td>Michael Bloomberg</td>\n",
       "      <td>2115600000</td>\n",
       "      <td>Media &amp; Entertainment</td>\n",
       "    </tr>\n",
       "    <tr>\n",
       "      <th>9</th>\n",
       "      <td>Mark Zuckerberg</td>\n",
       "      <td>1736340000</td>\n",
       "      <td>Technology</td>\n",
       "    </tr>\n",
       "  </tbody>\n",
       "</table>\n",
       "</div>"
      ],
      "text/plain": [
       "                name  annual_income          main_industry\n",
       "0          Elon Musk     5650200000             Automotive\n",
       "1         Jeff Bezos     4411800000             Technology\n",
       "2         Bill Gates     3328200000             Technology\n",
       "3     Warren Buffett     3044400000  Finance & Investments\n",
       "4         Larry Page     2863800000             Technology\n",
       "5        Sergey Brin     2760600000             Technology\n",
       "6      Larry Ellison     2734800000             Technology\n",
       "7      Steve Ballmer     2358120000             Technology\n",
       "8  Michael Bloomberg     2115600000  Media & Entertainment\n",
       "9    Mark Zuckerberg     1736340000             Technology"
      ]
     },
     "execution_count": 16,
     "metadata": {},
     "output_type": "execute_result"
    }
   ],
   "source": [
    "usa = pd.read_sql('''SELECT distinct t1.name, t1.annual_income, t1.main_industry\n",
    "FROM billionaire_list t1 \n",
    "INNER JOIN ( SELECT name, MAX(time) AS max_time FROM billionaire_list GROUP BY name ) t2 \n",
    "ON t1.name = t2.name AND t1.time = t2.max_time \n",
    "where countries = 'usa'\n",
    "order by t1.annual_income desc limit  10 ;  ''', my_conn)\n",
    "usa"
   ]
  },
  {
   "cell_type": "markdown",
   "metadata": {},
   "source": [
    "The predominant industry for high earners is the Technology sector. "
   ]
  },
  {
   "cell_type": "code",
   "execution_count": 22,
   "metadata": {},
   "outputs": [
    {
     "data": {
      "text/html": [
       "<div>\n",
       "<style scoped>\n",
       "    .dataframe tbody tr th:only-of-type {\n",
       "        vertical-align: middle;\n",
       "    }\n",
       "\n",
       "    .dataframe tbody tr th {\n",
       "        vertical-align: top;\n",
       "    }\n",
       "\n",
       "    .dataframe thead th {\n",
       "        text-align: right;\n",
       "    }\n",
       "</style>\n",
       "<table border=\"1\" class=\"dataframe\">\n",
       "  <thead>\n",
       "    <tr style=\"text-align: right;\">\n",
       "      <th></th>\n",
       "      <th>name</th>\n",
       "      <th>annual_income</th>\n",
       "      <th>age</th>\n",
       "      <th>main_industry</th>\n",
       "    </tr>\n",
       "  </thead>\n",
       "  <tbody>\n",
       "    <tr>\n",
       "      <th>0</th>\n",
       "      <td>Sam Bankman-Fried</td>\n",
       "      <td>619200000</td>\n",
       "      <td>30</td>\n",
       "      <td>Finance &amp; Investments</td>\n",
       "    </tr>\n",
       "    <tr>\n",
       "      <th>1</th>\n",
       "      <td>Wang Yayuan</td>\n",
       "      <td>309600000</td>\n",
       "      <td>30</td>\n",
       "      <td>Consumer Electronics</td>\n",
       "    </tr>\n",
       "    <tr>\n",
       "      <th>2</th>\n",
       "      <td>Gary Wang</td>\n",
       "      <td>152220000</td>\n",
       "      <td>28</td>\n",
       "      <td>Finance &amp; Investments</td>\n",
       "    </tr>\n",
       "    <tr>\n",
       "      <th>3</th>\n",
       "      <td>Gustav Magnar Witzoe</td>\n",
       "      <td>116100000</td>\n",
       "      <td>28</td>\n",
       "      <td>Food &amp; Beverage</td>\n",
       "    </tr>\n",
       "    <tr>\n",
       "      <th>4</th>\n",
       "      <td>Johnny Boufarhat</td>\n",
       "      <td>77400000</td>\n",
       "      <td>28</td>\n",
       "      <td>Technology Services</td>\n",
       "    </tr>\n",
       "    <tr>\n",
       "      <th>5</th>\n",
       "      <td>Kevin Guo</td>\n",
       "      <td>77400000</td>\n",
       "      <td>28</td>\n",
       "      <td>Cosmetics</td>\n",
       "    </tr>\n",
       "    <tr>\n",
       "      <th>6</th>\n",
       "      <td>Kevin David Lehmann</td>\n",
       "      <td>61920000</td>\n",
       "      <td>19</td>\n",
       "      <td>Fashion &amp; Retail</td>\n",
       "    </tr>\n",
       "    <tr>\n",
       "      <th>7</th>\n",
       "      <td>Xu Ruotong</td>\n",
       "      <td>59339999</td>\n",
       "      <td>25</td>\n",
       "      <td>Auto Components</td>\n",
       "    </tr>\n",
       "    <tr>\n",
       "      <th>8</th>\n",
       "      <td>Alex Atallah</td>\n",
       "      <td>56760000</td>\n",
       "      <td>30</td>\n",
       "      <td>Technology</td>\n",
       "    </tr>\n",
       "    <tr>\n",
       "      <th>9</th>\n",
       "      <td>Jonathan Kwok</td>\n",
       "      <td>56760000</td>\n",
       "      <td>30</td>\n",
       "      <td>Real Estate</td>\n",
       "    </tr>\n",
       "  </tbody>\n",
       "</table>\n",
       "</div>"
      ],
      "text/plain": [
       "                   name  annual_income  age          main_industry\n",
       "0     Sam Bankman-Fried      619200000   30  Finance & Investments\n",
       "1           Wang Yayuan      309600000   30   Consumer Electronics\n",
       "2             Gary Wang      152220000   28  Finance & Investments\n",
       "3  Gustav Magnar Witzoe      116100000   28        Food & Beverage\n",
       "4      Johnny Boufarhat       77400000   28    Technology Services\n",
       "5             Kevin Guo       77400000   28              Cosmetics\n",
       "6   Kevin David Lehmann       61920000   19       Fashion & Retail\n",
       "7            Xu Ruotong       59339999   25        Auto Components\n",
       "8          Alex Atallah       56760000   30             Technology\n",
       "9         Jonathan Kwok       56760000   30            Real Estate"
      ]
     },
     "execution_count": 22,
     "metadata": {},
     "output_type": "execute_result"
    }
   ],
   "source": [
    "under_30 = pd.read_sql('''SELECT distinct t1.name, t1.annual_income, age, t1.main_industry\n",
    "FROM billionaire_list t1 \n",
    "INNER JOIN ( SELECT name, MAX(time) AS max_time FROM billionaire_list GROUP BY name ) t2 \n",
    "ON t1.name = t2.name AND t1.time = t2.max_time \n",
    "where age<=30\n",
    "order by t1.annual_income desc limit  10 ;  ''', my_conn)\n",
    "under_30"
   ]
  },
  {
   "cell_type": "code",
   "execution_count": 32,
   "metadata": {},
   "outputs": [
    {
     "data": {
      "text/plain": [
       "Text(0, 0.5, 'Top Earners income in Billions (USD)')"
      ]
     },
     "execution_count": 32,
     "metadata": {},
     "output_type": "execute_result"
    },
    {
     "data": {
      "image/png": "[encoded data removed]",
      "text/plain": [
       "<Figure size 432x288 with 1 Axes>"
      ]
     },
     "metadata": {},
     "output_type": "display_data"
    }
   ],
   "source": [
    "plt.style.use('dark_background')\n",
    "plt.suptitle('Top Earners Under Age 30', weight = 'bold', color='white').set_fontsize(16)\n",
    "plt.title('Data from the Peterson Institute for International Economics', color = 'white').set_fontsize(10)\n",
    "plt.xticks(rotation=90)\n",
    "sns.barplot('name', 'annual_income', 'main_industry', data = under_30, edgecolor='white')\n",
    "plt.xlabel('name', weight = 'bold', color = 'white')\n",
    "plt.ylabel('Top Earners'' income in Billions (USD)', weight = 'bold', color = 'white')"
   ]
  },
  {
   "cell_type": "markdown",
   "metadata": {},
   "source": [
    "Top earners under 30 come from a diverse background of industries. "
   ]
  }
 ],
 "metadata": {
  "kernelspec": {
   "display_name": "Python 3",
   "language": "python",
   "name": "python3"
  },
  "language_info": {
   "codemirror_mode": {
    "name": "ipython",
    "version": 3
   },
   "file_extension": ".py",
   "mimetype": "text/x-python",
   "name": "python",
   "nbconvert_exporter": "python",
   "pygments_lexer": "ipython3",
   "version": "3.8.5"
  }
 },
 "nbformat": 4,
 "nbformat_minor": 4
}
